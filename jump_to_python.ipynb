{
  "nbformat": 4,
  "nbformat_minor": 0,
  "metadata": {
    "colab": {
      "name": "Untitled0.ipynb",
      "provenance": [],
      "authorship_tag": "ABX9TyMP/NKWiMUQbE2BpYCHr4EO",
      "include_colab_link": true
    },
    "kernelspec": {
      "name": "python3",
      "display_name": "Python 3"
    },
    "language_info": {
      "name": "python"
    }
  },
  "cells": [
    {
      "cell_type": "markdown",
      "metadata": {
        "id": "view-in-github",
        "colab_type": "text"
      },
      "source": [
        "<a href=\"https://colab.research.google.com/github/unseodongtallulla/exercise/blob/main/jump_to_python.ipynb\" target=\"_parent\"><img src=\"https://colab.research.google.com/assets/colab-badge.svg\" alt=\"Open In Colab\"/></a>"
      ]
    },
    {
      "cell_type": "code",
      "metadata": {
        "id": "H5ckOBY3v_5b"
      },
      "source": [
        "a=123\n",
        "a=-178\n",
        "a=0"
      ],
      "execution_count": null,
      "outputs": []
    },
    {
      "cell_type": "code",
      "metadata": {
        "id": "gz-K4n_l6j3_",
        "colab": {
          "base_uri": "https://localhost:8080/"
        },
        "outputId": "de1c2a4c-3c43-49a0-8d63-25318bfefc41"
      },
      "source": [
        "a"
      ],
      "execution_count": null,
      "outputs": [
        {
          "output_type": "execute_result",
          "data": {
            "text/plain": [
              "0"
            ]
          },
          "metadata": {},
          "execution_count": 7
        }
      ]
    },
    {
      "cell_type": "code",
      "metadata": {
        "id": "mFLgK_fG6n7e"
      },
      "source": [
        "x=300\n",
        "\n",
        "y=2*x+3"
      ],
      "execution_count": null,
      "outputs": []
    },
    {
      "cell_type": "code",
      "metadata": {
        "id": "BZ_N7Yl6C3Sf"
      },
      "source": [
        "def 최소승수():\n",
        "  현재_승점=0\n",
        "  승=3\n",
        "  for 경기 in range(1,7):\n",
        "    print(f\"{경기} 번째 경기\")\n",
        "    현재_승점 = 현재_승점+승\n",
        "    if 현재_승점>8:\n",
        "      return print(f\"{경기} 번째만에 끝난다!\")"
      ],
      "execution_count": 33,
      "outputs": []
    },
    {
      "cell_type": "code",
      "metadata": {
        "id": "PLs5VxGAAY2k",
        "outputId": "45ccc357-cf70-4d8b-e964-f85f6560b8de",
        "colab": {
          "base_uri": "https://localhost:8080/"
        }
      },
      "source": [
        "최소승수()"
      ],
      "execution_count": 35,
      "outputs": [
        {
          "output_type": "stream",
          "name": "stdout",
          "text": [
            "1 번째 경기\n",
            "2 번째 경기\n",
            "3 번째 경기\n",
            "3 번째만에 끝난다!\n"
          ]
        }
      ]
    },
    {
      "cell_type": "code",
      "metadata": {
        "id": "sQWlrujdDaJW",
        "outputId": "13044a7d-93ba-49e5-a960-1affaaed3324",
        "colab": {
          "base_uri": "https://localhost:8080/"
        }
      },
      "source": [
        "for 경기 in range(1,7):\n",
        "  print(경기)"
      ],
      "execution_count": 31,
      "outputs": [
        {
          "output_type": "stream",
          "name": "stdout",
          "text": [
            "1\n",
            "2\n",
            "3\n",
            "4\n",
            "5\n",
            "6\n"
          ]
        }
      ]
    }
  ]
}